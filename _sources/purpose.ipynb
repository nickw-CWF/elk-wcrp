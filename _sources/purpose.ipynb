{
 "cells": [
  {
   "cell_type": "markdown",
   "metadata": {},
   "source": [
    "# Connectivity Plan Purpose, Approach, and Vision\n",
    "\n",
    "## Purpose and Approach\n",
    "\n",
    "The following Watershed Connectivity Remediation Plan (WCRP) represents the culmination of a six-month collaborative planning effort for the Elk River watershed, the overall aim of which is to reduce the threat of aquatic barriers to resident, fluvial, and adfluvial fish and the livelihoods that they support, including the continued sustenance, cultural, and ceremonial needs of the Ktunaxa people both now and into the future. This 30-year plan was developed to identify priority actions that the Elk River WCRP planning team (see Planning Team for a list of team members) will undertake between 2021-2051 to conserve and restore fish passage in the watershed through strategies aimed at barrier remediation and barrier prevention.\n",
    "\n",
    "WCRPs are long-term, actionable plans that blend local stakeholder and rightsholder knowledge with innovative GIS analyses to gain a shared understanding of where remediation efforts will have the greatest benefit for fish. The planning process is inspired by the [Conservation Standards](https://cmp-openstandards.org/wp-content/uploads/2020/07/CMP-Open-Standards-for-the-Practice-of-Conservation-v4.0.pdf) (v.4.0), which is a conservation planning framework that allows planning teams to systematically identify, implement, and monitor strategies to apply the most effective solutions to high-priority conservation problems. There is a rich history of fish and fish habitat conservation and restoration work in the Elk River watershed that this WCRP builds upon, including the work undertaken by the Ktunaxa Nation, the Province of British Columbia, and industry proponents, among others. The Canadian Wildlife Federation will continue to engage and coordinate with local partners and existing initiatives, including the [Elk Valley Cumulative Effects Management Framework](https://www2.gov.bc.ca/gov/content/environment/natural-resource-stewardship/cumulative-effects-framework/regional-assessments/kootenay-boundary/elk-valley-cemf), [the Elk Valley Fish and Fish Habitat Committee](https://open.library.ubc.ca/media/stream/pdf/59367/1.0374545/5), and the [Elk River Watershed Collaborative Monitoring Program](https://www.elkriveralliance.ca/elk_river_watershed_collaborative_monitoring_program).\n",
    "\n",
    "The planning team compiled existing barrier location and assessment data, habitat data, and previously identified priorities, and combined this with local knowledge to create a strategic watershed-scale plan to improve connectivity. To expand on this work, the Elk River WCRP planning team applied the WCRP planning framework to define the thematic scope of freshwater connectivity and refine the geographic scope to identify those portions of the watershed where barrier prioritization will be conducted, and subsequent remediation efforts will take place. Additionally, the team selected target fish species, assessed their current connectivity status in the watershed, defined concrete goals for gains in connectivity, and developed an intermediate list of barriers for remediation to achieve those goals. While the current version of this plan is based on the best-available information at the time of publishing, WCRPs are intended to be living plans that are updated regularly as new information becomes available, or if local priorities and contexts change. As such, this document should be interpreted as a current snap-shot in time, and future iterations of this WCRP will build upon the material presented in this plan to continuously improve aquatic barrier remediation for fish in the Elk River watershed. For more information on how WCRPs are developed, see Mazany-Wright et al. 2021c.\n",
    "\n",
    "## Vision Statement\n",
    "\n",
    "*Healthy, well-connected streams and rivers within the Elk River watershed support thriving populations of Westslope Cutthroat Trout. Watershed users work together to mitigate the negative impacts of aquatic barriers, improving the resiliency of streams and rivers for the benefit and appreciation of all.*\n"
   ]
  }
 ],
 "metadata": {
  "language_info": {
   "name": "python"
  },
  "orig_nbformat": 4
 },
 "nbformat": 4,
 "nbformat_minor": 2
}
