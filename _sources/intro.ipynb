{
 "cells": [
  {
   "cell_type": "markdown",
   "metadata": {},
   "source": [
    "# Elk River Watershed | Qukin ?amak?is Connectivity Remediation Plan: 2021-2051\n",
    "\n",
    "January 2022, Version 1.0\n",
    "\n",
    "Canadian Wildlife Federation\n",
    "\n",
    "350 Michael Cowpland Drive\n",
    "\n",
    "Kanata, Ontario K2M 2W1\n",
    "\n",
    "Telephone: 1-877-599-5777 | 613-599-9594\n",
    "\n",
    "[www.cwf-fcf.org](www.cwf-fcf.org)\n",
    "\n",
    "© 2022\n",
    "\n",
    "**Suggested Citation:**\n",
    "Mazany-Wright, N., S. M. Norris, J. Noseworthy, B. Rebellato, S. Sra, and N. W. R. Lapointe. 2022. Elk River Watershed Connectivity Remediation Plan: 2021- 2051. Canadian Wildlife Federation. Ottawa, Ontario, Canada. \n",
    "\n",
    "\n",
    ":::{note}\n",
    "This book is under development.\n",
    ":::"
   ]
  }
 ],
 "metadata": {
  "language_info": {
   "name": "python"
  },
  "orig_nbformat": 4
 },
 "nbformat": 4,
 "nbformat_minor": 2
}
