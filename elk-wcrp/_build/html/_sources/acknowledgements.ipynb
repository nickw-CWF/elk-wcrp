{
 "cells": [
  {
   "cell_type": "markdown",
   "metadata": {},
   "source": [
    "# Acknowledgements\n",
    "\n",
    "This plan represents the culmination of a collaborative planning process undertaken in the Elk River watershed over many months of work with a multi-partner planning team of individuals and groups passionate about the conservation and restoration of freshwater ecosystems and the species they support. Plan development was funded by the BC Salmon Restoration and Innovation Fund, the Canada Nature Fund for Aquatic Species at Risk, and the RBC Bluewater Project. We were fortunate to benefit from the feedback, guidance, and wisdom of many groups and individuals who volunteered their time throughout this process — this publication would not have been possible without the engagement of our partners and the planning team (see Table 1).\n",
    "\n",
    "We recognize the incredible fish passage and connectivity work that has occurred in the Elk River watershed to date, and we are excited to continue partnering with local groups and organizations to build up existing initiatives and provide a road map to push connectivity remediation forward over the next 30 years and beyond.\n",
    "\n",
    "The Canadian Wildlife Federation recognizes that the lands and waters that form the basis of this plan are the traditional unceded territory of the Ktunaxa people. We are grateful for the opportunity to work to benefit Westslope Cutthroat Trout (*Oncorhynchus clarkii lewisi*).\n",
    "\n"
   ]
  }
 ],
 "metadata": {
  "language_info": {
   "name": "python"
  },
  "orig_nbformat": 4
 },
 "nbformat": 4,
 "nbformat_minor": 2
}
