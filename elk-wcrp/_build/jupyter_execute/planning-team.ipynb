{
 "cells": [
  {
   "cell_type": "markdown",
   "metadata": {},
   "source": [
    "# Planning Team and Key Actors\n",
    "\n",
    "Test {ref}`Table 1 <team_tbl>` reference."
   ]
  },
  {
   "cell_type": "code",
   "execution_count": 1,
   "metadata": {
    "tags": [
     "remove-cell"
    ]
   },
   "outputs": [
    {
     "data": {
      "text/html": [
       "<style type=\"text/css\">\n",
       "#T_537a7_ caption {\n",
       "  caption-side: top;\n",
       "}\n",
       "</style>\n",
       "<table id=\"T_537a7_\">\n",
       "  <caption>Table 1. Elk River WCRP Planning Team</caption>\n",
       "  <thead>\n",
       "    <tr>\n",
       "      <th class=\"col_heading level0 col0\" >Name</th>\n",
       "      <th class=\"col_heading level0 col1\" >Organization</th>\n",
       "    </tr>\n",
       "  </thead>\n",
       "  <tbody>\n",
       "    <tr>\n",
       "      <td id=\"T_537a7_row0_col0\" class=\"data row0 col0\" >Betty Rebellato</td>\n",
       "      <td id=\"T_537a7_row0_col1\" class=\"data row0 col1\" >Canadian Wildlife Federation</td>\n",
       "    </tr>\n",
       "    <tr>\n",
       "      <td id=\"T_537a7_row1_col0\" class=\"data row1 col0\" >Nick Mazany-Wright</td>\n",
       "      <td id=\"T_537a7_row1_col1\" class=\"data row1 col1\" >Canadian Wildlife Federation</td>\n",
       "    </tr>\n",
       "    <tr>\n",
       "      <td id=\"T_537a7_row2_col0\" class=\"data row2 col0\" >Nicolas Lapointe</td>\n",
       "      <td id=\"T_537a7_row2_col1\" class=\"data row2 col1\" >Canadian Wildlife Federation</td>\n",
       "    </tr>\n",
       "    <tr>\n",
       "      <td id=\"T_537a7_row3_col0\" class=\"data row3 col0\" >Sarah Sra</td>\n",
       "      <td id=\"T_537a7_row3_col1\" class=\"data row3 col1\" >Canadian Wildlife Federation</td>\n",
       "    </tr>\n",
       "    <tr>\n",
       "      <td id=\"T_537a7_row4_col0\" class=\"data row4 col0\" >Simon Norris</td>\n",
       "      <td id=\"T_537a7_row4_col1\" class=\"data row4 col1\" >Hillcrest Geographics</td>\n",
       "    </tr>\n",
       "    <tr>\n",
       "      <td id=\"T_537a7_row5_col0\" class=\"data row5 col0\" >Kristin Singer</td>\n",
       "      <td id=\"T_537a7_row5_col1\" class=\"data row5 col1\" >Department of Fisheries and Oceans Canada</td>\n",
       "    </tr>\n",
       "    <tr>\n",
       "      <td id=\"T_537a7_row6_col0\" class=\"data row6 col0\" >Chad Hughes</td>\n",
       "      <td id=\"T_537a7_row6_col1\" class=\"data row6 col1\" >Elk River Alliance</td>\n",
       "    </tr>\n",
       "    <tr>\n",
       "      <td id=\"T_537a7_row7_col0\" class=\"data row7 col0\" >Joshua Noseworthy</td>\n",
       "      <td id=\"T_537a7_row7_col1\" class=\"data row7 col1\" >Global Conservation Solutions</td>\n",
       "    </tr>\n",
       "    <tr>\n",
       "      <td id=\"T_537a7_row8_col0\" class=\"data row8 col0\" >Camille Des Rosiers-Ste.Marie</td>\n",
       "      <td id=\"T_537a7_row8_col1\" class=\"data row8 col1\" >Jon Bisset and Associates</td>\n",
       "    </tr>\n",
       "    <tr>\n",
       "      <td id=\"T_537a7_row9_col0\" class=\"data row9 col0\" >Jon Bisset</td>\n",
       "      <td id=\"T_537a7_row9_col1\" class=\"data row9 col1\" >Jon Bisset and Associates</td>\n",
       "    </tr>\n",
       "    <tr>\n",
       "      <td id=\"T_537a7_row10_col0\" class=\"data row10 col0\" >Mike Robinson</td>\n",
       "      <td id=\"T_537a7_row10_col1\" class=\"data row10 col1\" >LOTIC Environmental</td>\n",
       "    </tr>\n",
       "    <tr>\n",
       "      <td id=\"T_537a7_row11_col0\" class=\"data row11 col0\" >Herb Tepper</td>\n",
       "      <td id=\"T_537a7_row11_col1\" class=\"data row11 col1\" >Ministry of Forests, Lands, Natural Resource Operations & Rural Development</td>\n",
       "    </tr>\n",
       "    <tr>\n",
       "      <td id=\"T_537a7_row12_col0\" class=\"data row12 col0\" >Bill Arling</td>\n",
       "      <td id=\"T_537a7_row12_col1\" class=\"data row12 col1\" >North Coal</td>\n",
       "    </tr>\n",
       "    <tr>\n",
       "      <td id=\"T_537a7_row13_col0\" class=\"data row13 col0\" >Patty Vadnais</td>\n",
       "      <td id=\"T_537a7_row13_col1\" class=\"data row13 col1\" >North Coal</td>\n",
       "    </tr>\n",
       "    <tr>\n",
       "      <td id=\"T_537a7_row14_col0\" class=\"data row14 col0\" >Dave Baines</td>\n",
       "      <td id=\"T_537a7_row14_col1\" class=\"data row14 col1\" >NWP Coal Canada Ltd.</td>\n",
       "    </tr>\n",
       "    <tr>\n",
       "      <td id=\"T_537a7_row15_col0\" class=\"data row15 col0\" >Mindy Sheer</td>\n",
       "      <td id=\"T_537a7_row15_col1\" class=\"data row15 col1\" >Sheer Ecology</td>\n",
       "    </tr>\n",
       "    <tr>\n",
       "      <td id=\"T_537a7_row16_col0\" class=\"data row16 col0\" >John Huryn</td>\n",
       "      <td id=\"T_537a7_row16_col1\" class=\"data row16 col1\" >Sparwood & District Fish and Wildlife Association</td>\n",
       "    </tr>\n",
       "    <tr>\n",
       "      <td id=\"T_537a7_row17_col0\" class=\"data row17 col0\" >Warn Franklin</td>\n",
       "      <td id=\"T_537a7_row17_col1\" class=\"data row17 col1\" >Teck Resources</td>\n",
       "    </tr>\n",
       "    <tr>\n",
       "      <td id=\"T_537a7_row18_col0\" class=\"data row18 col0\" >Jason Gravelle</td>\n",
       "      <td id=\"T_537a7_row18_col1\" class=\"data row18 col1\" >Tobacco Plains Indian Band</td>\n",
       "    </tr>\n",
       "    <tr>\n",
       "      <td id=\"T_537a7_row19_col0\" class=\"data row19 col0\" >Randal McNair</td>\n",
       "      <td id=\"T_537a7_row19_col1\" class=\"data row19 col1\" >Wildsight BC</td>\n",
       "    </tr>\n",
       "    <tr>\n",
       "      <td id=\"T_537a7_row20_col0\" class=\"data row20 col0\" >Josh Noseworthy</td>\n",
       "      <td id=\"T_537a7_row20_col1\" class=\"data row20 col1\" >Global Conservation Solutions</td>\n",
       "    </tr>\n",
       "  </tbody>\n",
       "</table>\n"
      ],
      "text/plain": [
       "<pandas.io.formats.style.Styler at 0x237369c7408>"
      ]
     },
     "metadata": {
      "scrapbook": {
       "mime_prefix": "",
       "name": "team_tbl"
      }
     },
     "output_type": "display_data"
    }
   ],
   "source": [
    "import pandas as pd\n",
    "from myst_nb import glue\n",
    "team_tbl = pd.read_csv(\"./tables/planning-team.csv\")\n",
    "team_tbl = team_tbl.style.hide_index()\n",
    "team_tbl = team_tbl.set_caption(\"Table 1. Elk River WCRP Planning Team\")\\\n",
    "    .set_table_styles([{\n",
    "        'selector': 'caption',\n",
    "        'props': 'caption-side: top;'\n",
    "    }],overwrite=False)\n",
    "glue(\"team_tbl\", team_tbl)\n",
    "#team_tbl"
   ]
  },
  {
   "cell_type": "markdown",
   "metadata": {},
   "source": [
    "```{glue:figure} team_tbl\n",
    ":name: \"team_tbl\"\n",
    "```"
   ]
  }
 ],
 "metadata": {
  "celltoolbar": "Edit Metadata",
  "interpreter": {
   "hash": "ece7293a6f9cb692ffe28ca5578e6ab3ef7b93fd72455ca15c7fd645e92ab4c5"
  },
  "kernelspec": {
   "display_name": "Python 3",
   "language": "python",
   "name": "python3"
  },
  "language_info": {
   "codemirror_mode": {
    "name": "ipython",
    "version": 3
   },
   "file_extension": ".py",
   "mimetype": "text/x-python",
   "name": "python",
   "nbconvert_exporter": "python",
   "pygments_lexer": "ipython3",
   "version": "3.7.11"
  }
 },
 "nbformat": 4,
 "nbformat_minor": 2
}