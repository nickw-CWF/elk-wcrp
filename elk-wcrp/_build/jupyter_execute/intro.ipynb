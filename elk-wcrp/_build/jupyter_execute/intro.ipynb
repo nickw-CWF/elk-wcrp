{
 "cells": [
  {
   "cell_type": "markdown",
   "metadata": {},
   "source": [
    "# Elk River Watershed | Qukin ?amak?is Connectivity Remediation Plan: 2021-2051\n",
    "\n",
    "January 2022, Version 1.0\n",
    "\n",
    "Canadian Wildlife Federation\n",
    "\n",
    "350 Michael Cowpland Drive\n",
    "\n",
    "Kanata, Ontario K2M 2W1\n",
    "\n",
    "Telephone: 1-877-599-5777 | 613-599-9594\n",
    "\n",
    "[www.cwf-fcf.org](www.cwf-fcf.org)\n",
    "\n",
    "© 2022\n",
    "\n",
    "**Suggested Citation:**\n",
    "Mazany-Wright, N., S. M. Norris, J. Noseworthy, B. Rebellato, S. Sra, and N. W. R. Lapointe. 2022. Elk River Watershed Connectivity Remediation Plan: 2021- 2051. Canadian Wildlife Federation. Ottawa, Ontario, Canada. \n",
    "\n",
    "\n",
    ":::{note}\n",
    "This book is under development.\n",
    ":::"
   ]
  }
 ],
 "metadata": {
  "language_info": {
   "codemirror_mode": {
    "name": "ipython",
    "version": 3
   },
   "file_extension": ".py",
   "mimetype": "text/x-python",
   "name": "python",
   "nbconvert_exporter": "python",
   "pygments_lexer": "ipython3",
   "version": "3.7.11"
  }
 },
 "nbformat": 4,
 "nbformat_minor": 2
}